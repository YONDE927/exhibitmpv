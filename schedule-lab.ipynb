{
 "cells": [
  {
   "cell_type": "code",
   "execution_count": 3,
   "id": "e792f702",
   "metadata": {},
   "outputs": [],
   "source": [
    "import pandas as pd"
   ]
  },
  {
   "cell_type": "code",
   "execution_count": 31,
   "id": "2179114a",
   "metadata": {},
   "outputs": [],
   "source": [
    "df = pd.read_csv(\"schedule.csv\",header=None)"
   ]
  },
  {
   "cell_type": "code",
   "execution_count": 32,
   "id": "9a09fb63",
   "metadata": {},
   "outputs": [
    {
     "data": {
      "text/html": [
       "<div>\n",
       "<style scoped>\n",
       "    .dataframe tbody tr th:only-of-type {\n",
       "        vertical-align: middle;\n",
       "    }\n",
       "\n",
       "    .dataframe tbody tr th {\n",
       "        vertical-align: top;\n",
       "    }\n",
       "\n",
       "    .dataframe thead th {\n",
       "        text-align: right;\n",
       "    }\n",
       "</style>\n",
       "<table border=\"1\" class=\"dataframe\">\n",
       "  <thead>\n",
       "    <tr style=\"text-align: right;\">\n",
       "      <th></th>\n",
       "      <th>0</th>\n",
       "      <th>1</th>\n",
       "      <th>2</th>\n",
       "    </tr>\n",
       "  </thead>\n",
       "  <tbody>\n",
       "    <tr>\n",
       "      <th>0</th>\n",
       "      <td>Tokyo500yesrs</td>\n",
       "      <td>10:00</td>\n",
       "      <td>10:18</td>\n",
       "    </tr>\n",
       "    <tr>\n",
       "      <th>1</th>\n",
       "      <td>004_shunbun</td>\n",
       "      <td>10:18</td>\n",
       "      <td>10:24</td>\n",
       "    </tr>\n",
       "    <tr>\n",
       "      <th>2</th>\n",
       "      <td>soundscape</td>\n",
       "      <td>10:24</td>\n",
       "      <td>10:40</td>\n",
       "    </tr>\n",
       "    <tr>\n",
       "      <th>3</th>\n",
       "      <td>Tokyo500yesrs</td>\n",
       "      <td>10:40</td>\n",
       "      <td>10:58</td>\n",
       "    </tr>\n",
       "    <tr>\n",
       "      <th>4</th>\n",
       "      <td>004_shunbun</td>\n",
       "      <td>10:58</td>\n",
       "      <td>11:04</td>\n",
       "    </tr>\n",
       "  </tbody>\n",
       "</table>\n",
       "</div>"
      ],
      "text/plain": [
       "               0      1      2\n",
       "0  Tokyo500yesrs  10:00  10:18\n",
       "1    004_shunbun  10:18  10:24\n",
       "2     soundscape  10:24  10:40\n",
       "3  Tokyo500yesrs  10:40  10:58\n",
       "4    004_shunbun  10:58  11:04"
      ]
     },
     "execution_count": 32,
     "metadata": {},
     "output_type": "execute_result"
    }
   ],
   "source": [
    "df.head()"
   ]
  },
  {
   "cell_type": "code",
   "execution_count": 33,
   "id": "1ea7accc",
   "metadata": {},
   "outputs": [],
   "source": [
    "start=[]\n",
    "end=[]\n",
    "for i,row in df.iterrows():\n",
    "    tmp = row[1].split(\":\")\n",
    "    x = (int(tmp[0])*60 + int(tmp[1])) * 60\n",
    "    start.append(x)\n",
    "\n",
    "for i,row in df.iterrows():\n",
    "    tmp = row[2].split(\":\")\n",
    "    x = (int(tmp[0])*60 + int(tmp[1])) * 60\n",
    "    end.append(x)"
   ]
  },
  {
   "cell_type": "code",
   "execution_count": 34,
   "id": "1d197497",
   "metadata": {},
   "outputs": [],
   "source": [
    "df[\"start\"]=start\n",
    "df[\"end\"]=end"
   ]
  },
  {
   "cell_type": "code",
   "execution_count": 35,
   "id": "d9649fd8",
   "metadata": {},
   "outputs": [],
   "source": [
    "dic = {\"Tokyo500yesrs\" : \"./movie/Tokyo500.mp4\",\n",
    "       \"004_shunbun\" : \"./movie/shunbun.mp4\",\n",
    "       \"soundscape\" : \"./movie/sample-10s.mp4\"\n",
    "      }\n",
    "time_dic = {\"Tokyo500yesrs\" : 1071,\n",
    "       \"004_shunbun\" : 300,\n",
    "       \"soundscape\" : 10\n",
    "      }\n",
    "path=[]\n",
    "time=[]\n",
    "for i, row in df.iterrows():\n",
    "    path.append(dic[row[0]])\n",
    "    time.append(time_dic[row[0]])\n",
    "df[3] = time\n",
    "df[0] = path"
   ]
  },
  {
   "cell_type": "code",
   "execution_count": 36,
   "id": "fa9d07ce",
   "metadata": {},
   "outputs": [
    {
     "data": {
      "text/html": [
       "<div>\n",
       "<style scoped>\n",
       "    .dataframe tbody tr th:only-of-type {\n",
       "        vertical-align: middle;\n",
       "    }\n",
       "\n",
       "    .dataframe tbody tr th {\n",
       "        vertical-align: top;\n",
       "    }\n",
       "\n",
       "    .dataframe thead th {\n",
       "        text-align: right;\n",
       "    }\n",
       "</style>\n",
       "<table border=\"1\" class=\"dataframe\">\n",
       "  <thead>\n",
       "    <tr style=\"text-align: right;\">\n",
       "      <th></th>\n",
       "      <th>0</th>\n",
       "      <th>1</th>\n",
       "      <th>2</th>\n",
       "      <th>start</th>\n",
       "      <th>end</th>\n",
       "      <th>3</th>\n",
       "    </tr>\n",
       "  </thead>\n",
       "  <tbody>\n",
       "    <tr>\n",
       "      <th>0</th>\n",
       "      <td>./movie/Tokyo500.mp4</td>\n",
       "      <td>10:00</td>\n",
       "      <td>10:18</td>\n",
       "      <td>36000</td>\n",
       "      <td>37080</td>\n",
       "      <td>1071</td>\n",
       "    </tr>\n",
       "    <tr>\n",
       "      <th>1</th>\n",
       "      <td>./movie/shunbun.mp4</td>\n",
       "      <td>10:18</td>\n",
       "      <td>10:24</td>\n",
       "      <td>37080</td>\n",
       "      <td>37440</td>\n",
       "      <td>300</td>\n",
       "    </tr>\n",
       "    <tr>\n",
       "      <th>2</th>\n",
       "      <td>./movie/sample-10s.mp4</td>\n",
       "      <td>10:24</td>\n",
       "      <td>10:40</td>\n",
       "      <td>37440</td>\n",
       "      <td>38400</td>\n",
       "      <td>10</td>\n",
       "    </tr>\n",
       "    <tr>\n",
       "      <th>3</th>\n",
       "      <td>./movie/Tokyo500.mp4</td>\n",
       "      <td>10:40</td>\n",
       "      <td>10:58</td>\n",
       "      <td>38400</td>\n",
       "      <td>39480</td>\n",
       "      <td>1071</td>\n",
       "    </tr>\n",
       "    <tr>\n",
       "      <th>4</th>\n",
       "      <td>./movie/shunbun.mp4</td>\n",
       "      <td>10:58</td>\n",
       "      <td>11:04</td>\n",
       "      <td>39480</td>\n",
       "      <td>39840</td>\n",
       "      <td>300</td>\n",
       "    </tr>\n",
       "    <tr>\n",
       "      <th>...</th>\n",
       "      <td>...</td>\n",
       "      <td>...</td>\n",
       "      <td>...</td>\n",
       "      <td>...</td>\n",
       "      <td>...</td>\n",
       "      <td>...</td>\n",
       "    </tr>\n",
       "    <tr>\n",
       "      <th>58</th>\n",
       "      <td>./movie/shunbun.mp4</td>\n",
       "      <td>22:58</td>\n",
       "      <td>23:04</td>\n",
       "      <td>82680</td>\n",
       "      <td>83040</td>\n",
       "      <td>300</td>\n",
       "    </tr>\n",
       "    <tr>\n",
       "      <th>59</th>\n",
       "      <td>./movie/sample-10s.mp4</td>\n",
       "      <td>23:04</td>\n",
       "      <td>23:20</td>\n",
       "      <td>83040</td>\n",
       "      <td>84000</td>\n",
       "      <td>10</td>\n",
       "    </tr>\n",
       "    <tr>\n",
       "      <th>60</th>\n",
       "      <td>./movie/Tokyo500.mp4</td>\n",
       "      <td>23:20</td>\n",
       "      <td>23:38</td>\n",
       "      <td>84000</td>\n",
       "      <td>85080</td>\n",
       "      <td>1071</td>\n",
       "    </tr>\n",
       "    <tr>\n",
       "      <th>61</th>\n",
       "      <td>./movie/shunbun.mp4</td>\n",
       "      <td>23:38</td>\n",
       "      <td>23:44</td>\n",
       "      <td>85080</td>\n",
       "      <td>85440</td>\n",
       "      <td>300</td>\n",
       "    </tr>\n",
       "    <tr>\n",
       "      <th>62</th>\n",
       "      <td>./movie/sample-10s.mp4</td>\n",
       "      <td>23:44</td>\n",
       "      <td>24:00</td>\n",
       "      <td>85440</td>\n",
       "      <td>86400</td>\n",
       "      <td>10</td>\n",
       "    </tr>\n",
       "  </tbody>\n",
       "</table>\n",
       "<p>63 rows × 6 columns</p>\n",
       "</div>"
      ],
      "text/plain": [
       "                         0      1      2  start    end     3\n",
       "0     ./movie/Tokyo500.mp4  10:00  10:18  36000  37080  1071\n",
       "1      ./movie/shunbun.mp4  10:18  10:24  37080  37440   300\n",
       "2   ./movie/sample-10s.mp4  10:24  10:40  37440  38400    10\n",
       "3     ./movie/Tokyo500.mp4  10:40  10:58  38400  39480  1071\n",
       "4      ./movie/shunbun.mp4  10:58  11:04  39480  39840   300\n",
       "..                     ...    ...    ...    ...    ...   ...\n",
       "58     ./movie/shunbun.mp4  22:58  23:04  82680  83040   300\n",
       "59  ./movie/sample-10s.mp4  23:04  23:20  83040  84000    10\n",
       "60    ./movie/Tokyo500.mp4  23:20  23:38  84000  85080  1071\n",
       "61     ./movie/shunbun.mp4  23:38  23:44  85080  85440   300\n",
       "62  ./movie/sample-10s.mp4  23:44  24:00  85440  86400    10\n",
       "\n",
       "[63 rows x 6 columns]"
      ]
     },
     "execution_count": 36,
     "metadata": {},
     "output_type": "execute_result"
    }
   ],
   "source": [
    "df"
   ]
  },
  {
   "cell_type": "code",
   "execution_count": 37,
   "id": "8a3ccd23",
   "metadata": {},
   "outputs": [],
   "source": [
    "df[[0,3,\"start\",\"end\"]].to_csv(\"schedule.txt\",sep=' ',header=None,index=None)"
   ]
  },
  {
   "cell_type": "code",
   "execution_count": 29,
   "id": "109ee3f8",
   "metadata": {},
   "outputs": [
    {
     "data": {
      "text/plain": [
       "1071"
      ]
     },
     "execution_count": 29,
     "metadata": {},
     "output_type": "execute_result"
    }
   ],
   "source": [
    "17*60 + 51\n"
   ]
  },
  {
   "cell_type": "code",
   "execution_count": 38,
   "id": "a6e3f025",
   "metadata": {},
   "outputs": [],
   "source": [
    "import datetime"
   ]
  },
  {
   "cell_type": "code",
   "execution_count": 44,
   "id": "1718ec7a",
   "metadata": {},
   "outputs": [],
   "source": [
    "today = datetime.date.today()"
   ]
  },
  {
   "cell_type": "code",
   "execution_count": 46,
   "id": "dde977c0",
   "metadata": {},
   "outputs": [],
   "source": [
    "from datetime import date\n",
    "from datetime import datetime\n",
    "\n",
    "dt = datetime.combine(date.today(), datetime.min.time())"
   ]
  },
  {
   "cell_type": "code",
   "execution_count": 48,
   "id": "efabc7b6",
   "metadata": {},
   "outputs": [
    {
     "data": {
      "text/plain": [
       "1647788400.0"
      ]
     },
     "execution_count": 48,
     "metadata": {},
     "output_type": "execute_result"
    }
   ],
   "source": [
    "dt.timestamp()"
   ]
  },
  {
   "cell_type": "code",
   "execution_count": 65,
   "id": "f39f9964",
   "metadata": {},
   "outputs": [],
   "source": [
    "max_t = 28*60*60"
   ]
  },
  {
   "cell_type": "code",
   "execution_count": 66,
   "id": "df677455",
   "metadata": {},
   "outputs": [],
   "source": [
    "x = 22*60*60\n",
    "entry=[]\n",
    "stream = []\n",
    "begin = []\n",
    "end = []\n",
    "while(x < max_t):\n",
    "    entry.extend([\"./movie/Tokyo500.mp4\",\"./movie/shunbun.mp4\"])\n",
    "    stream.extend([1071,300])\n",
    "    begin.append(x)\n",
    "    x += 1071\n",
    "    end.append(x+1)\n",
    "    begin.append(x)\n",
    "    x += 300\n",
    "    end.append(x+1)"
   ]
  },
  {
   "cell_type": "code",
   "execution_count": 67,
   "id": "f2140503",
   "metadata": {},
   "outputs": [
    {
     "data": {
      "text/plain": [
       "32"
      ]
     },
     "execution_count": 67,
     "metadata": {},
     "output_type": "execute_result"
    }
   ],
   "source": [
    "len(entry)"
   ]
  },
  {
   "cell_type": "code",
   "execution_count": 68,
   "id": "5f9e9b1e",
   "metadata": {},
   "outputs": [
    {
     "data": {
      "text/plain": [
       "101136"
      ]
     },
     "execution_count": 68,
     "metadata": {},
     "output_type": "execute_result"
    }
   ],
   "source": [
    "x"
   ]
  },
  {
   "cell_type": "code",
   "execution_count": 69,
   "id": "95c8049b",
   "metadata": {},
   "outputs": [
    {
     "data": {
      "text/plain": [
       "100800"
      ]
     },
     "execution_count": 69,
     "metadata": {},
     "output_type": "execute_result"
    }
   ],
   "source": [
    "max_t"
   ]
  },
  {
   "cell_type": "code",
   "execution_count": 70,
   "id": "5dd45327",
   "metadata": {},
   "outputs": [],
   "source": [
    "#pd.DataFrame({0:entry,1:stream,2:begin,3:end}).to_csv(\"tokyo500-shunbun.txt\",sep=\" \",index=None,header=None)\n",
    "pd.DataFrame({0:entry,1:stream,2:begin,3:end}).to_csv(\"tokyo500-shunbun_test.txt\",sep=\" \",index=None,header=None)"
   ]
  },
  {
   "cell_type": "code",
   "execution_count": null,
   "id": "37ab8d33",
   "metadata": {},
   "outputs": [],
   "source": []
  }
 ],
 "metadata": {
  "kernelspec": {
   "display_name": "Python 3",
   "language": "python",
   "name": "python3"
  },
  "language_info": {
   "codemirror_mode": {
    "name": "ipython",
    "version": 3
   },
   "file_extension": ".py",
   "mimetype": "text/x-python",
   "name": "python",
   "nbconvert_exporter": "python",
   "pygments_lexer": "ipython3",
   "version": "3.9.4"
  }
 },
 "nbformat": 4,
 "nbformat_minor": 5
}
